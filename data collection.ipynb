{
 "cells": [
  {
   "cell_type": "code",
   "execution_count": 1,
   "metadata": {},
   "outputs": [],
   "source": [
    "import cv2 \n",
    "import uuid\n",
    "import os\n",
    "import time"
   ]
  },
  {
   "cell_type": "markdown",
   "metadata": {},
   "source": [
    "Define Images to Collect"
   ]
  },
  {
   "cell_type": "code",
   "execution_count": 2,
   "metadata": {},
   "outputs": [],
   "source": [
    "labels = ['id_img']\n",
    "number_imgs = 15"
   ]
  },
  {
   "cell_type": "code",
   "execution_count": 3,
   "metadata": {},
   "outputs": [],
   "source": [
    "IMAGES_PATH = os.path.join('Tensorflow', 'workspace', 'images', 'collectedimages')"
   ]
  },
  {
   "cell_type": "code",
   "execution_count": 4,
   "metadata": {},
   "outputs": [],
   "source": [
    "if not os.path.exists(IMAGES_PATH):\n",
    "    if os.name == 'posix':\n",
    "        !mkdir -p {IMAGES_PATH}\n",
    "    if os.name == 'nt':\n",
    "         !mkdir {IMAGES_PATH}\n",
    "for label in labels:\n",
    "    path = os.path.join(IMAGES_PATH, label)\n",
    "    if not os.path.exists(path):\n",
    "        !mkdir {path}"
   ]
  },
  {
   "cell_type": "markdown",
   "metadata": {},
   "source": [
    "Capturing Images"
   ]
  },
  {
   "cell_type": "code",
   "execution_count": 5,
   "metadata": {},
   "outputs": [
    {
     "name": "stdout",
     "output_type": "stream",
     "text": [
      "Collecting images for id_img\n",
      "Collecting image 0\n",
      "Collecting image 1\n",
      "Collecting image 2\n",
      "Collecting image 3\n",
      "Collecting image 4\n",
      "Collecting image 5\n",
      "Collecting image 6\n",
      "Collecting image 7\n",
      "Collecting image 8\n",
      "Collecting image 9\n",
      "Collecting image 10\n",
      "Collecting image 11\n",
      "Collecting image 12\n"
     ]
    },
    {
     "ename": "KeyboardInterrupt",
     "evalue": "",
     "output_type": "error",
     "traceback": [
      "\u001b[1;31m---------------------------------------------------------------------------\u001b[0m",
      "\u001b[1;31mKeyboardInterrupt\u001b[0m                         Traceback (most recent call last)",
      "\u001b[1;32md:\\Coding\\projects\\DeepLearning\\ID_system\\1. Image Collection.ipynb Cell 8\u001b[0m in \u001b[0;36m<cell line: 1>\u001b[1;34m()\u001b[0m\n\u001b[0;32m      <a href='vscode-notebook-cell:/d%3A/Coding/projects/DeepLearning/ID_system/1.%20Image%20Collection.ipynb#X12sZmlsZQ%3D%3D?line=8'>9</a>\u001b[0m cv2\u001b[39m.\u001b[39mimwrite(imgname, frame)\n\u001b[0;32m     <a href='vscode-notebook-cell:/d%3A/Coding/projects/DeepLearning/ID_system/1.%20Image%20Collection.ipynb#X12sZmlsZQ%3D%3D?line=9'>10</a>\u001b[0m cv2\u001b[39m.\u001b[39mimshow(\u001b[39m'\u001b[39m\u001b[39mframe\u001b[39m\u001b[39m'\u001b[39m, frame)\n\u001b[1;32m---> <a href='vscode-notebook-cell:/d%3A/Coding/projects/DeepLearning/ID_system/1.%20Image%20Collection.ipynb#X12sZmlsZQ%3D%3D?line=10'>11</a>\u001b[0m time\u001b[39m.\u001b[39;49msleep(\u001b[39m2\u001b[39;49m)\n\u001b[0;32m     <a href='vscode-notebook-cell:/d%3A/Coding/projects/DeepLearning/ID_system/1.%20Image%20Collection.ipynb#X12sZmlsZQ%3D%3D?line=12'>13</a>\u001b[0m \u001b[39mif\u001b[39;00m cv2\u001b[39m.\u001b[39mwaitKey(\u001b[39m1\u001b[39m) \u001b[39m&\u001b[39m \u001b[39m0xFF\u001b[39m \u001b[39m==\u001b[39m \u001b[39mord\u001b[39m(\u001b[39m'\u001b[39m\u001b[39mq\u001b[39m\u001b[39m'\u001b[39m):\n\u001b[0;32m     <a href='vscode-notebook-cell:/d%3A/Coding/projects/DeepLearning/ID_system/1.%20Image%20Collection.ipynb#X12sZmlsZQ%3D%3D?line=13'>14</a>\u001b[0m     \u001b[39mbreak\u001b[39;00m\n",
      "\u001b[1;31mKeyboardInterrupt\u001b[0m: "
     ]
    },
    {
     "ename": "",
     "evalue": "",
     "output_type": "error",
     "traceback": [
      "\u001b[1;31mThe Kernel crashed while executing code in the the current cell or a previous cell. Please review the code in the cell(s) to identify a possible cause of the failure. Click <a href='https://aka.ms/vscodeJupyterKernelCrash'>here</a> for more info. View Jupyter <a href='command:jupyter.viewOutput'>log</a> for further details."
     ]
    }
   ],
   "source": [
    "for label in labels:\n",
    "    cap = cv2.VideoCapture(0)\n",
    "    print('Collecting images for {}'.format(label))\n",
    "    time.sleep(5)\n",
    "    for imgnum in range(number_imgs):\n",
    "        print('Collecting image {}'.format(imgnum))\n",
    "        ret, frame = cap.read()\n",
    "        imgname = os.path.join(IMAGES_PATH,label,label+'.'+'{}.jpg'.format(str(uuid.uuid1())))\n",
    "        cv2.imwrite(imgname, frame)\n",
    "        cv2.imshow('frame', frame)\n",
    "        time.sleep(2)\n",
    "\n",
    "        if cv2.waitKey(1) & 0xFF == ord('q'):\n",
    "            break\n",
    "cap.release()\n",
    "cv2.destroyAllWindows()"
   ]
  },
  {
   "cell_type": "code",
   "execution_count": 3,
   "metadata": {},
   "outputs": [],
   "source": [
    "from PIL import Image\n",
    "import os, sys\n",
    "\n",
    "path = ('D:\\\\Coding\\\\projects\\\\DeepLearning\\\\ID_system\\\\Tensorflow\\\\workspace\\\\images\\\\collectedimages\\\\id_img')\n",
    "\n",
    "def resize():\n",
    "    for item in os.listdir(path):\n",
    "        if os.path.isfile(item):\n",
    "            im = Image.open(item)\n",
    "            f, e = os.path.splitext(item)\n",
    "            imResize = im.resize((250,250), Image.ANTIALIAS)\n",
    "            imResize.save(f + ' resized.jpg', 'JPEG', quality=90)\n",
    "\n",
    "resize()"
   ]
  },
  {
   "cell_type": "code",
   "execution_count": 7,
   "metadata": {},
   "outputs": [],
   "source": [
    "path = ('D:\\\\Coding\\\\projects\\\\DeepLearning\\\\ID_system\\\\Tensorflow\\\\workspace\\\\images\\\\collectedimages\\\\id_img')\n",
    "for item in os.listdir(path):\n",
    "    if os.path.isfile(item):\n",
    "        print(item)"
   ]
  },
  {
   "cell_type": "code",
   "execution_count": null,
   "metadata": {},
   "outputs": [],
   "source": []
  },
  {
   "cell_type": "code",
   "execution_count": 4,
   "metadata": {},
   "outputs": [],
   "source": [
    "import matplotlib.pyplot as plt"
   ]
  },
  {
   "cell_type": "code",
   "execution_count": 9,
   "metadata": {},
   "outputs": [],
   "source": [
    "img=plt.imread('D:\\\\Coding\\\\projects\\\\DeepLearning\\\\ID_system\\\\Tensorflow\\\\workspace\\\\images\\\\collectedimages\\\\id_img\\\\01.jpg')\n",
    "plt.imshow(img)"
   ]
  },
  {
   "cell_type": "code",
   "execution_count": 13,
   "metadata": {},
   "outputs": [],
   "source": [
    "img2=Image.open('D:\\\\Coding\\\\projects\\\\DeepLearning\\\\ID_system\\\\Tensorflow\\\\workspace\\\\images\\\\collectedimages\\\\id_img\\\\01.jpg')\n",
    "img2=img2.resize((250,250))\n",
    "plt.imshow(img2)\n"
   ]
  },
  {
   "cell_type": "markdown",
   "metadata": {},
   "source": [
    "Image Labelling"
   ]
  },
  {
   "cell_type": "code",
   "execution_count": 17,
   "metadata": {},
   "outputs": [
    {
     "name": "stdout",
     "output_type": "stream",
     "text": [
      "Requirement already satisfied: pyqt5 in d:\\softwares\\anaconda\\envs\\foyie_env\\lib\\site-packages (5.15.7)\n",
      "Requirement already satisfied: lxml in d:\\softwares\\anaconda\\envs\\foyie_env\\lib\\site-packages (4.9.1)\n",
      "Collecting lxml\n",
      "  Using cached lxml-4.9.2-cp39-cp39-win_amd64.whl (3.9 MB)\n",
      "Requirement already satisfied: PyQt5-sip<13,>=12.11 in d:\\softwares\\anaconda\\envs\\foyie_env\\lib\\site-packages (from pyqt5) (12.11.0)\n",
      "Installing collected packages: lxml\n",
      "  Attempting uninstall: lxml\n",
      "    Found existing installation: lxml 4.9.1\n",
      "    Uninstalling lxml-4.9.1:\n",
      "      Successfully uninstalled lxml-4.9.1"
     ]
    },
    {
     "name": "stderr",
     "output_type": "stream",
     "text": [
      "WARNING: Ignoring invalid distribution -atplotlib (d:\\softwares\\anaconda\\envs\\foyie_env\\lib\\site-packages)\n",
      "WARNING: Ignoring invalid distribution -atplotlib (d:\\softwares\\anaconda\\envs\\foyie_env\\lib\\site-packages)\n",
      "WARNING: Ignoring invalid distribution -atplotlib (d:\\softwares\\anaconda\\envs\\foyie_env\\lib\\site-packages)\n",
      "    WARNING: Ignoring invalid distribution -atplotlib (d:\\softwares\\anaconda\\envs\\foyie_env\\lib\\site-packages)\n",
      "WARNING: Ignoring invalid distribution -atplotlib (d:\\softwares\\anaconda\\envs\\foyie_env\\lib\\site-packages)\n",
      "ERROR: pip's dependency resolver does not currently take into account all the packages that are installed. This behaviour is the source of the following dependency conflicts.\n",
      "object-detection 0.1 requires apache-beam, which is not installed.\n",
      "object-detection 0.1 requires avro-python3, which is not installed.\n",
      "object-detection 0.1 requires contextlib2, which is not installed.\n",
      "object-detection 0.1 requires Cython, which is not installed.\n",
      "object-detection 0.1 requires pycocotools, which is not installed.\n",
      "sacrebleu 2.2.0 requires portalocker, which is not installed.\n",
      "sacrebleu 2.2.0 requires tabulate>=0.8.9, which is not installed.\n",
      "tf-models-official 2.10.0 requires Cython, which is not installed.\n",
      "tf-models-official 2.10.0 requires gin-config, which is not installed.\n",
      "tf-models-official 2.10.0 requires google-api-python-client>=1.6.7, which is not installed.\n",
      "tf-models-official 2.10.0 requires immutabledict, which is not installed.\n",
      "tf-models-official 2.10.0 requires kaggle>=1.3.9, which is not installed.\n",
      "tf-models-official 2.10.0 requires oauth2client, which is not installed.\n",
      "tf-models-official 2.10.0 requires opencv-python-headless==4.5.2.52, which is not installed.\n",
      "tf-models-official 2.10.0 requires py-cpuinfo>=3.3.0, which is not installed.\n",
      "tf-models-official 2.10.0 requires pycocotools, which is not installed.\n",
      "tf-models-official 2.10.0 requires sentencepiece, which is not installed.\n",
      "tf-models-official 2.10.0 requires seqeval, which is not installed.\n",
      "tf-models-official 2.10.0 requires tensorflow-addons, which is not installed.\n",
      "tf-models-official 2.10.0 requires tensorflow-datasets, which is not installed.\n",
      "tf-models-official 2.10.0 requires tensorflow-hub>=0.6.0, which is not installed.\n",
      "tf-models-official 2.10.0 requires tensorflow-model-optimization>=0.4.1, which is not installed.\n",
      "tf-models-official 2.10.0 requires tensorflow-text~=2.10.0, which is not installed.\n",
      "object-detection 0.1 requires pyparsing==2.4.7, but you have pyparsing 3.0.9 which is incompatible.\n",
      "tf-models-official 2.10.0 requires pyyaml<6.0,>=5.1, but you have pyyaml 6.0 which is incompatible.\n",
      "WARNING: Ignoring invalid distribution -atplotlib (d:\\softwares\\anaconda\\envs\\foyie_env\\lib\\site-packages)\n",
      "WARNING: Ignoring invalid distribution -atplotlib (d:\\softwares\\anaconda\\envs\\foyie_env\\lib\\site-packages)\n",
      "WARNING: Ignoring invalid distribution -atplotlib (d:\\softwares\\anaconda\\envs\\foyie_env\\lib\\site-packages)\n"
     ]
    },
    {
     "name": "stdout",
     "output_type": "stream",
     "text": [
      "\n",
      "Successfully installed lxml-4.9.2\n"
     ]
    }
   ],
   "source": [
    "!pip install --upgrade pyqt5 lxml"
   ]
  },
  {
   "attachments": {},
   "cell_type": "markdown",
   "metadata": {},
   "source": [
    "labelimg is an opensource packacging for labling images"
   ]
  },
  {
   "cell_type": "code",
   "execution_count": 15,
   "metadata": {},
   "outputs": [],
   "source": [
    "LABELIMG_PATH = os.path.join('Tensorflow', 'labelimg')"
   ]
  },
  {
   "cell_type": "code",
   "execution_count": 16,
   "metadata": {},
   "outputs": [
    {
     "name": "stderr",
     "output_type": "stream",
     "text": [
      "Cloning into 'Tensorflow\\labelimg'...\n"
     ]
    }
   ],
   "source": [
    "if not os.path.exists(LABELIMG_PATH):\n",
    "    !mkdir {LABELIMG_PATH}\n",
    "    !git clone https://github.com/tzutalin/labelImg {LABELIMG_PATH}"
   ]
  },
  {
   "cell_type": "code",
   "execution_count": 18,
   "metadata": {},
   "outputs": [],
   "source": [
    "if os.name == 'posix':\n",
    "    !make qt5py3\n",
    "if os.name =='nt':\n",
    "    !cd {LABELIMG_PATH} && pyrcc5 -o libs/resources.py resources.qrc"
   ]
  },
  {
   "cell_type": "code",
   "execution_count": 19,
   "metadata": {},
   "outputs": [
    {
     "name": "stdout",
     "output_type": "stream",
     "text": [
      "Cancel creation.\n",
      "Cancel creation.\n",
      "Image:D:\\Coding\\projects\\DeepLearning\\ID_system\\Tensorflow\\workspace\\images\\collectedimages\\01.jpg -> Annotation:D:/Coding/projects/DeepLearning/ID_system/Tensorflow/workspace/images/collectedimages\\01.xml\n",
      "Cancel creation.\n",
      "Image:D:\\Coding\\projects\\DeepLearning\\ID_system\\Tensorflow\\workspace\\images\\collectedimages\\02.jpg -> Annotation:D:/Coding/projects/DeepLearning/ID_system/Tensorflow/workspace/images/collectedimages\\02.xml\n",
      "Cancel creation.\n",
      "Cancel creation.\n",
      "Image:D:\\Coding\\projects\\DeepLearning\\ID_system\\Tensorflow\\workspace\\images\\collectedimages\\03.jpg -> Annotation:D:/Coding/projects/DeepLearning/ID_system/Tensorflow/workspace/images/collectedimages\\03.xml\n",
      "Image:D:\\Coding\\projects\\DeepLearning\\ID_system\\Tensorflow\\workspace\\images\\collectedimages\\04.jpg -> Annotation:D:/Coding/projects/DeepLearning/ID_system/Tensorflow/workspace/images/collectedimages\\04.xml\n",
      "Image:D:\\Coding\\projects\\DeepLearning\\ID_system\\Tensorflow\\workspace\\images\\collectedimages\\4.jpg -> Annotation:D:/Coding/projects/DeepLearning/ID_system/Tensorflow/workspace/images/collectedimages\\4.xml\n",
      "Image:D:\\Coding\\projects\\DeepLearning\\ID_system\\Tensorflow\\workspace\\images\\collectedimages\\05.jpg -> Annotation:D:/Coding/projects/DeepLearning/ID_system/Tensorflow/workspace/images/collectedimages\\05.xml\n",
      "Image:D:\\Coding\\projects\\DeepLearning\\ID_system\\Tensorflow\\workspace\\images\\collectedimages\\06.jpg -> Annotation:D:/Coding/projects/DeepLearning/ID_system/Tensorflow/workspace/images/collectedimages\\06.xml\n",
      "Image:D:\\Coding\\projects\\DeepLearning\\ID_system\\Tensorflow\\workspace\\images\\collectedimages\\07.jpg -> Annotation:D:/Coding/projects/DeepLearning/ID_system/Tensorflow/workspace/images/collectedimages\\07.xml\n",
      "Image:D:\\Coding\\projects\\DeepLearning\\ID_system\\Tensorflow\\workspace\\images\\collectedimages\\08.jpg -> Annotation:D:/Coding/projects/DeepLearning/ID_system/Tensorflow/workspace/images/collectedimages\\08.xml\n",
      "Image:D:\\Coding\\projects\\DeepLearning\\ID_system\\Tensorflow\\workspace\\images\\collectedimages\\09.jpg -> Annotation:D:/Coding/projects/DeepLearning/ID_system/Tensorflow/workspace/images/collectedimages\\09.xml\n",
      "Image:D:\\Coding\\projects\\DeepLearning\\ID_system\\Tensorflow\\workspace\\images\\collectedimages\\10.jpg -> Annotation:D:/Coding/projects/DeepLearning/ID_system/Tensorflow/workspace/images/collectedimages\\10.xml\n",
      "Image:D:\\Coding\\projects\\DeepLearning\\ID_system\\Tensorflow\\workspace\\images\\collectedimages\\11.jpg -> Annotation:D:/Coding/projects/DeepLearning/ID_system/Tensorflow/workspace/images/collectedimages\\11.xml\n",
      "Cancel creation.\n",
      "Image:D:\\Coding\\projects\\DeepLearning\\ID_system\\Tensorflow\\workspace\\images\\collectedimages\\12.jpg -> Annotation:D:/Coding/projects/DeepLearning/ID_system/Tensorflow/workspace/images/collectedimages\\12.xml\n",
      "Image:D:\\Coding\\projects\\DeepLearning\\ID_system\\Tensorflow\\workspace\\images\\collectedimages\\13.jpg -> Annotation:D:/Coding/projects/DeepLearning/ID_system/Tensorflow/workspace/images/collectedimages\\13.xml\n",
      "Image:D:\\Coding\\projects\\DeepLearning\\ID_system\\Tensorflow\\workspace\\images\\collectedimages\\14.jpg -> Annotation:D:/Coding/projects/DeepLearning/ID_system/Tensorflow/workspace/images/collectedimages\\14.xml\n",
      "Image:D:\\Coding\\projects\\DeepLearning\\ID_system\\Tensorflow\\workspace\\images\\collectedimages\\15.jpg -> Annotation:D:/Coding/projects/DeepLearning/ID_system/Tensorflow/workspace/images/collectedimages\\15.xml\n",
      "Image:D:\\Coding\\projects\\DeepLearning\\ID_system\\Tensorflow\\workspace\\images\\collectedimages\\16.jpg -> Annotation:D:/Coding/projects/DeepLearning/ID_system/Tensorflow/workspace/images/collectedimages\\16.xml\n",
      "Image:D:\\Coding\\projects\\DeepLearning\\ID_system\\Tensorflow\\workspace\\images\\collectedimages\\17.jpg -> Annotation:D:/Coding/projects/DeepLearning/ID_system/Tensorflow/workspace/images/collectedimages\\17.xml\n",
      "Image:D:\\Coding\\projects\\DeepLearning\\ID_system\\Tensorflow\\workspace\\images\\collectedimages\\18.jpg -> Annotation:D:/Coding/projects/DeepLearning/ID_system/Tensorflow/workspace/images/collectedimages\\18.xml\n",
      "Cancel creation.\n",
      "Image:D:\\Coding\\projects\\DeepLearning\\ID_system\\Tensorflow\\workspace\\images\\collectedimages\\19.jpg -> Annotation:D:/Coding/projects/DeepLearning/ID_system/Tensorflow/workspace/images/collectedimages\\19.xml\n",
      "Image:D:\\Coding\\projects\\DeepLearning\\ID_system\\Tensorflow\\workspace\\images\\collectedimages\\20.jpg -> Annotation:D:/Coding/projects/DeepLearning/ID_system/Tensorflow/workspace/images/collectedimages\\20.xml\n",
      "Image:D:\\Coding\\projects\\DeepLearning\\ID_system\\Tensorflow\\workspace\\images\\collectedimages\\21.jpg -> Annotation:D:/Coding/projects/DeepLearning/ID_system/Tensorflow/workspace/images/collectedimages\\21.xml\n",
      "Image:D:\\Coding\\projects\\DeepLearning\\ID_system\\Tensorflow\\workspace\\images\\collectedimages\\22.jpg -> Annotation:D:/Coding/projects/DeepLearning/ID_system/Tensorflow/workspace/images/collectedimages\\22.xml\n",
      "Image:D:\\Coding\\projects\\DeepLearning\\ID_system\\Tensorflow\\workspace\\images\\collectedimages\\23.jpg -> Annotation:D:/Coding/projects/DeepLearning/ID_system/Tensorflow/workspace/images/collectedimages\\23.xml\n",
      "Image:D:\\Coding\\projects\\DeepLearning\\ID_system\\Tensorflow\\workspace\\images\\collectedimages\\24.jpg -> Annotation:D:/Coding/projects/DeepLearning/ID_system/Tensorflow/workspace/images/collectedimages\\24.xml\n",
      "Image:D:\\Coding\\projects\\DeepLearning\\ID_system\\Tensorflow\\workspace\\images\\collectedimages\\25.jpg -> Annotation:D:/Coding/projects/DeepLearning/ID_system/Tensorflow/workspace/images/collectedimages\\25.xml\n",
      "Image:D:\\Coding\\projects\\DeepLearning\\ID_system\\Tensorflow\\workspace\\images\\collectedimages\\26.jpg -> Annotation:D:/Coding/projects/DeepLearning/ID_system/Tensorflow/workspace/images/collectedimages\\26.xml\n",
      "Image:D:\\Coding\\projects\\DeepLearning\\ID_system\\Tensorflow\\workspace\\images\\collectedimages\\27.jpg -> Annotation:D:/Coding/projects/DeepLearning/ID_system/Tensorflow/workspace/images/collectedimages\\27.xml\n",
      "Image:D:\\Coding\\projects\\DeepLearning\\ID_system\\Tensorflow\\workspace\\images\\collectedimages\\0409 Kansas_Real_ID.1.jpg -> Annotation:D:/Coding/projects/DeepLearning/ID_system/Tensorflow/workspace/images/collectedimages\\0409 Kansas_Real_ID.1.xml\n",
      "Image:D:\\Coding\\projects\\DeepLearning\\ID_system\\Tensorflow\\workspace\\images\\collectedimages\\1440x810_cmsv2_548e11b5-0a57-53f4-88d9-5ea703413300-6355324.jpg -> Annotation:D:/Coding/projects/DeepLearning/ID_system/Tensorflow/workspace/images/collectedimages\\1440x810_cmsv2_548e11b5-0a57-53f4-88d9-5ea703413300-6355324.xml\n",
      "Image:D:\\Coding\\projects\\DeepLearning\\ID_system\\Tensorflow\\workspace\\images\\collectedimages\\10302019_drivers_174607.webp -> Annotation:D:/Coding/projects/DeepLearning/ID_system/Tensorflow/workspace/images/collectedimages\\10302019_drivers_174607.xml\n",
      "Image:D:\\Coding\\projects\\DeepLearning\\ID_system\\Tensorflow\\workspace\\images\\collectedimages\\DE_Adult_DL_Veteran_300dpi.jpg -> Annotation:D:/Coding/projects/DeepLearning/ID_system/Tensorflow/workspace/images/collectedimages\\DE_Adult_DL_Veteran_300dpi.xml\n",
      "Image:D:\\Coding\\projects\\DeepLearning\\ID_system\\Tensorflow\\workspace\\images\\collectedimages\\Deutscher_Personalausweis_(2021_Version).jpg -> Annotation:D:/Coding/projects/DeepLearning/ID_system/Tensorflow/workspace/images/collectedimages\\Deutscher_Personalausweis_(2021_Version).xml\n",
      "Image:D:\\Coding\\projects\\DeepLearning\\ID_system\\Tensorflow\\workspace\\images\\collectedimages\\French_Identity_card_1988_-_1994.jpg -> Annotation:D:/Coding/projects/DeepLearning/ID_system/Tensorflow/workspace/images/collectedimages\\French_Identity_card_1988_-_1994.xml\n",
      "Image:D:\\Coding\\projects\\DeepLearning\\ID_system\\Tensorflow\\workspace\\images\\collectedimages\\ID.jpg -> Annotation:D:/Coding/projects/DeepLearning/ID_system/Tensorflow/workspace/images/collectedimages\\ID.xml\n",
      "Image:D:\\Coding\\projects\\DeepLearning\\ID_system\\Tensorflow\\workspace\\images\\collectedimages\\images (1).jpg -> Annotation:D:/Coding/projects/DeepLearning/ID_system/Tensorflow/workspace/images/collectedimages\\images (1).xml\n",
      "Image:D:\\Coding\\projects\\DeepLearning\\ID_system\\Tensorflow\\workspace\\images\\collectedimages\\images.jpg -> Annotation:D:/Coding/projects/DeepLearning/ID_system/Tensorflow/workspace/images/collectedimages\\images.xml\n",
      "Image:D:\\Coding\\projects\\DeepLearning\\ID_system\\Tensorflow\\workspace\\images\\collectedimages\\img-hex-govid-expandcardissuance.webp -> Annotation:D:/Coding/projects/DeepLearning/ID_system/Tensorflow/workspace/images/collectedimages\\img-hex-govid-expandcardissuance.xml\n",
      "Image:D:\\Coding\\projects\\DeepLearning\\ID_system\\Tensorflow\\workspace\\images\\collectedimages\\mn-adult-dl.jpg -> Annotation:D:/Coding/projects/DeepLearning/ID_system/Tensorflow/workspace/images/collectedimages\\mn-adult-dl.xml\n",
      "Image:D:\\Coding\\projects\\DeepLearning\\ID_system\\Tensorflow\\workspace\\images\\collectedimages\\PXL_20230105_130932948.jpg -> Annotation:D:/Coding/projects/DeepLearning/ID_system/Tensorflow/workspace/images/collectedimages\\PXL_20230105_130932948.xml\n",
      "Image:D:\\Coding\\projects\\DeepLearning\\ID_system\\Tensorflow\\workspace\\images\\collectedimages\\PXL_20230105_130937013.jpg -> Annotation:D:/Coding/projects/DeepLearning/ID_system/Tensorflow/workspace/images/collectedimages\\PXL_20230105_130937013.xml\n",
      "Image:D:\\Coding\\projects\\DeepLearning\\ID_system\\Tensorflow\\workspace\\images\\collectedimages\\PXL_20230105_130942647.jpg -> Annotation:D:/Coding/projects/DeepLearning/ID_system/Tensorflow/workspace/images/collectedimages\\PXL_20230105_130942647.xml\n",
      "Image:D:\\Coding\\projects\\DeepLearning\\ID_system\\Tensorflow\\workspace\\images\\collectedimages\\PXL_20230105_130949630.jpg -> Annotation:D:/Coding/projects/DeepLearning/ID_system/Tensorflow/workspace/images/collectedimages\\PXL_20230105_130949630.xml\n",
      "Image:D:\\Coding\\projects\\DeepLearning\\ID_system\\Tensorflow\\workspace\\images\\collectedimages\\PXL_20230105_130954204.jpg -> Annotation:D:/Coding/projects/DeepLearning/ID_system/Tensorflow/workspace/images/collectedimages\\PXL_20230105_130954204.xml\n",
      "Image:D:\\Coding\\projects\\DeepLearning\\ID_system\\Tensorflow\\workspace\\images\\collectedimages\\PXL_20230105_131001709.jpg -> Annotation:D:/Coding/projects/DeepLearning/ID_system/Tensorflow/workspace/images/collectedimages\\PXL_20230105_131001709.xml\n",
      "Image:D:\\Coding\\projects\\DeepLearning\\ID_system\\Tensorflow\\workspace\\images\\collectedimages\\PXL_20230105_131006201.jpg -> Annotation:D:/Coding/projects/DeepLearning/ID_system/Tensorflow/workspace/images/collectedimages\\PXL_20230105_131006201.xml\n",
      "Image:D:\\Coding\\projects\\DeepLearning\\ID_system\\Tensorflow\\workspace\\images\\collectedimages\\PXL_20230105_131012580.jpg -> Annotation:D:/Coding/projects/DeepLearning/ID_system/Tensorflow/workspace/images/collectedimages\\PXL_20230105_131012580.xml\n",
      "Image:D:\\Coding\\projects\\DeepLearning\\ID_system\\Tensorflow\\workspace\\images\\collectedimages\\PXL_20230105_131103798.jpg -> Annotation:D:/Coding/projects/DeepLearning/ID_system/Tensorflow/workspace/images/collectedimages\\PXL_20230105_131103798.xml\n",
      "Image:D:\\Coding\\projects\\DeepLearning\\ID_system\\Tensorflow\\workspace\\images\\collectedimages\\PXL_20230105_131124943.jpg -> Annotation:D:/Coding/projects/DeepLearning/ID_system/Tensorflow/workspace/images/collectedimages\\PXL_20230105_131124943.xml\n",
      "Image:D:\\Coding\\projects\\DeepLearning\\ID_system\\Tensorflow\\workspace\\images\\collectedimages\\PXL_20230105_131131821.jpg -> Annotation:D:/Coding/projects/DeepLearning/ID_system/Tensorflow/workspace/images/collectedimages\\PXL_20230105_131131821.xml\n",
      "Image:D:\\Coding\\projects\\DeepLearning\\ID_system\\Tensorflow\\workspace\\images\\collectedimages\\PXL_20230105_131136001.jpg -> Annotation:D:/Coding/projects/DeepLearning/ID_system/Tensorflow/workspace/images/collectedimages\\PXL_20230105_131136001.xml\n",
      "Image:D:\\Coding\\projects\\DeepLearning\\ID_system\\Tensorflow\\workspace\\images\\collectedimages\\real-id.jpg -> Annotation:D:/Coding/projects/DeepLearning/ID_system/Tensorflow/workspace/images/collectedimages\\real-id.xml\n",
      "Image:D:\\Coding\\projects\\DeepLearning\\ID_system\\Tensorflow\\workspace\\images\\collectedimages\\real-id.webp -> Annotation:D:/Coding/projects/DeepLearning/ID_system/Tensorflow/workspace/images/collectedimages\\real-id.xml\n",
      "Image:D:\\Coding\\projects\\DeepLearning\\ID_system\\Tensorflow\\workspace\\images\\collectedimages\\Screenshot 2023-01-05 184617.jpg -> Annotation:D:/Coding/projects/DeepLearning/ID_system/Tensorflow/workspace/images/collectedimages\\Screenshot 2023-01-05 184617.xml\n",
      "Image:D:\\Coding\\projects\\DeepLearning\\ID_system\\Tensorflow\\workspace\\images\\collectedimages\\Screenshot 2023-01-05 184701.jpg -> Annotation:D:/Coding/projects/DeepLearning/ID_system/Tensorflow/workspace/images/collectedimages\\Screenshot 2023-01-05 184701.xml\n",
      "Image:D:\\Coding\\projects\\DeepLearning\\ID_system\\Tensorflow\\workspace\\images\\collectedimages\\Screenshot 2023-01-05 184722.jpg -> Annotation:D:/Coding/projects/DeepLearning/ID_system/Tensorflow/workspace/images/collectedimages\\Screenshot 2023-01-05 184722.xml\n",
      "Image:D:\\Coding\\projects\\DeepLearning\\ID_system\\Tensorflow\\workspace\\images\\collectedimages\\Screenshot 2023-01-05 184752.jpg -> Annotation:D:/Coding/projects/DeepLearning/ID_system/Tensorflow/workspace/images/collectedimages\\Screenshot 2023-01-05 184752.xml\n",
      "Image:D:\\Coding\\projects\\DeepLearning\\ID_system\\Tensorflow\\workspace\\images\\collectedimages\\Screenshot 2023-01-05 184811.jpg -> Annotation:D:/Coding/projects/DeepLearning/ID_system/Tensorflow/workspace/images/collectedimages\\Screenshot 2023-01-05 184811.xml\n",
      "Image:D:\\Coding\\projects\\DeepLearning\\ID_system\\Tensorflow\\workspace\\images\\collectedimages\\Screenshot 2023-01-05 184834.jpg -> Annotation:D:/Coding/projects/DeepLearning/ID_system/Tensorflow/workspace/images/collectedimages\\Screenshot 2023-01-05 184834.xml\n",
      "Image:D:\\Coding\\projects\\DeepLearning\\ID_system\\Tensorflow\\workspace\\images\\collectedimages\\Screenshot 2023-01-05 184955.jpg -> Annotation:D:/Coding/projects/DeepLearning/ID_system/Tensorflow/workspace/images/collectedimages\\Screenshot 2023-01-05 184955.xml\n",
      "Image:D:\\Coding\\projects\\DeepLearning\\ID_system\\Tensorflow\\workspace\\images\\collectedimages\\U.S-id-card.jpg -> Annotation:D:/Coding/projects/DeepLearning/ID_system/Tensorflow/workspace/images/collectedimages\\U.S-id-card.xml\n"
     ]
    }
   ],
   "source": [
    "!cd {LABELIMG_PATH} && python labelImg.py"
   ]
  },
  {
   "cell_type": "markdown",
   "metadata": {},
   "source": [
    "moving them into a Training and Testing Partition"
   ]
  },
  {
   "cell_type": "code",
   "execution_count": 20,
   "metadata": {},
   "outputs": [],
   "source": [
    "TRAIN_PATH = os.path.join('Tensorflow', 'workspace', 'images', 'train')\n",
    "TEST_PATH = os.path.join('Tensorflow', 'workspace', 'images', 'test')\n",
    "ARCHIVE_PATH = os.path.join('Tensorflow', 'workspace', 'images', 'archive.tar.gz')"
   ]
  },
  {
   "cell_type": "code",
   "execution_count": 21,
   "metadata": {},
   "outputs": [],
   "source": [
    "!tar -czf {ARCHIVE_PATH} {TRAIN_PATH} {TEST_PATH}"
   ]
  }
 ],
 "metadata": {
  "kernelspec": {
   "display_name": "foyie_env",
   "language": "python",
   "name": "python3"
  },
  "language_info": {
   "codemirror_mode": {
    "name": "ipython",
    "version": 3
   },
   "file_extension": ".py",
   "mimetype": "text/x-python",
   "name": "python",
   "nbconvert_exporter": "python",
   "pygments_lexer": "ipython3",
   "version": "3.9.12"
  },
  "vscode": {
   "interpreter": {
    "hash": "707c518718e069bb7838367a1a9ddcfe7987c61e2416c11af102d417bd45bdf3"
   }
  }
 },
 "nbformat": 4,
 "nbformat_minor": 2
}
